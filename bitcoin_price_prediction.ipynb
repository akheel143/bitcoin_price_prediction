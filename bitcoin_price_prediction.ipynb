{
  "nbformat": 4,
  "nbformat_minor": 0,
  "metadata": {
    "colab": {
      "name": "bitcoin_price_prediction",
      "provenance": [],
      "authorship_tag": "ABX9TyPvfC1Pc3zf3NlwdJ5jZeGO",
      "include_colab_link": true
    },
    "kernelspec": {
      "name": "python3",
      "display_name": "Python 3"
    },
    "language_info": {
      "name": "python"
    }
  },
  "cells": [
    {
      "cell_type": "markdown",
      "metadata": {
        "id": "view-in-github",
        "colab_type": "text"
      },
      "source": [
        "<a href=\"https://colab.research.google.com/github/akheel143/bitcoin_price_prediction/blob/main/bitcoin_price_prediction.ipynb\" target=\"_parent\"><img src=\"https://colab.research.google.com/assets/colab-badge.svg\" alt=\"Open In Colab\"/></a>"
      ]
    },
    {
      "cell_type": "code",
      "metadata": {
        "colab": {
          "resources": {
            "http://localhost:8080/nbextensions/google.colab/files.js": {
              "data": "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",
              "ok": true,
              "headers": [
                [
                  "content-type",
                  "application/javascript"
                ]
              ],
              "status": 200,
              "status_text": ""
            }
          },
          "base_uri": "https://localhost:8080/",
          "height": 73
        },
        "id": "j4fzkp1U0g_e",
        "outputId": "84e4e458-838e-4e6d-9a83-b8521eb287a0"
      },
      "source": [
        "from google.colab import files\n",
        "src=files.upload()"
      ],
      "execution_count": 1,
      "outputs": [
        {
          "output_type": "display_data",
          "data": {
            "text/html": [
              "\n",
              "     <input type=\"file\" id=\"files-1da26ff8-62f6-4b65-8d99-d06c225fff75\" name=\"files[]\" multiple disabled\n",
              "        style=\"border:none\" />\n",
              "     <output id=\"result-1da26ff8-62f6-4b65-8d99-d06c225fff75\">\n",
              "      Upload widget is only available when the cell has been executed in the\n",
              "      current browser session. Please rerun this cell to enable.\n",
              "      </output>\n",
              "      <script src=\"/nbextensions/google.colab/files.js\"></script> "
            ],
            "text/plain": [
              "<IPython.core.display.HTML object>"
            ]
          },
          "metadata": {
            "tags": []
          }
        },
        {
          "output_type": "stream",
          "text": [
            "Saving bit_coin_TRAIN.csv to bit_coin_TRAIN.csv\n"
          ],
          "name": "stdout"
        }
      ]
    },
    {
      "cell_type": "code",
      "metadata": {
        "id": "cc9AbzMI0ybX"
      },
      "source": [
        "import pandas as pd"
      ],
      "execution_count": 2,
      "outputs": []
    },
    {
      "cell_type": "code",
      "metadata": {
        "id": "wDTUHvQx0yYX"
      },
      "source": [
        "data=pd.read_csv('bit_coin_TRAIN.csv')"
      ],
      "execution_count": 3,
      "outputs": []
    },
    {
      "cell_type": "code",
      "metadata": {
        "id": "IoDOh1Tw0yV7"
      },
      "source": [
        "data.head(10)\n",
        "target=data['Close']"
      ],
      "execution_count": 4,
      "outputs": []
    },
    {
      "cell_type": "code",
      "metadata": {
        "colab": {
          "base_uri": "https://localhost:8080/"
        },
        "id": "NskUo1-c0yTS",
        "outputId": "c6f85d28-fa94-4ae6-82ad-b0837a84bde0"
      },
      "source": [
        "data.describe()\n",
        "data.shape"
      ],
      "execution_count": 5,
      "outputs": [
        {
          "output_type": "execute_result",
          "data": {
            "text/plain": [
              "(900, 7)"
            ]
          },
          "metadata": {
            "tags": []
          },
          "execution_count": 5
        }
      ]
    },
    {
      "cell_type": "code",
      "metadata": {
        "id": "kdO2HOWJ0yQr"
      },
      "source": [
        "data.dtypes"
      ],
      "execution_count": null,
      "outputs": []
    },
    {
      "cell_type": "code",
      "metadata": {
        "id": "z08nN8zt0yN3"
      },
      "source": [
        "data['year']=pd.DatetimeIndex(data['Date']).year\n",
        "data['month']=pd.DatetimeIndex(data['Date']).month"
      ],
      "execution_count": 6,
      "outputs": []
    },
    {
      "cell_type": "code",
      "metadata": {
        "colab": {
          "base_uri": "https://localhost:8080/",
          "height": 1000
        },
        "id": "MQNXKK8E0yLE",
        "outputId": "a4ba172a-b8a0-4cf4-de80-593b2d390f85"
      },
      "source": [
        "data.head(40)"
      ],
      "execution_count": 7,
      "outputs": [
        {
          "output_type": "execute_result",
          "data": {
            "text/html": [
              "<div>\n",
              "<style scoped>\n",
              "    .dataframe tbody tr th:only-of-type {\n",
              "        vertical-align: middle;\n",
              "    }\n",
              "\n",
              "    .dataframe tbody tr th {\n",
              "        vertical-align: top;\n",
              "    }\n",
              "\n",
              "    .dataframe thead th {\n",
              "        text-align: right;\n",
              "    }\n",
              "</style>\n",
              "<table border=\"1\" class=\"dataframe\">\n",
              "  <thead>\n",
              "    <tr style=\"text-align: right;\">\n",
              "      <th></th>\n",
              "      <th>Date</th>\n",
              "      <th>Open</th>\n",
              "      <th>High</th>\n",
              "      <th>Low</th>\n",
              "      <th>Close</th>\n",
              "      <th>Adj Close</th>\n",
              "      <th>Volume</th>\n",
              "      <th>year</th>\n",
              "      <th>month</th>\n",
              "    </tr>\n",
              "  </thead>\n",
              "  <tbody>\n",
              "    <tr>\n",
              "      <th>0</th>\n",
              "      <td>2017-01-01</td>\n",
              "      <td>963.66</td>\n",
              "      <td>1003.08</td>\n",
              "      <td>958.70</td>\n",
              "      <td>998.33</td>\n",
              "      <td>998.33</td>\n",
              "      <td>147775008</td>\n",
              "      <td>2017</td>\n",
              "      <td>1</td>\n",
              "    </tr>\n",
              "    <tr>\n",
              "      <th>1</th>\n",
              "      <td>2017-01-02</td>\n",
              "      <td>998.62</td>\n",
              "      <td>1031.39</td>\n",
              "      <td>996.70</td>\n",
              "      <td>1021.75</td>\n",
              "      <td>1021.75</td>\n",
              "      <td>222184992</td>\n",
              "      <td>2017</td>\n",
              "      <td>1</td>\n",
              "    </tr>\n",
              "    <tr>\n",
              "      <th>2</th>\n",
              "      <td>2017-01-03</td>\n",
              "      <td>1021.60</td>\n",
              "      <td>1044.08</td>\n",
              "      <td>1021.60</td>\n",
              "      <td>1043.84</td>\n",
              "      <td>1043.84</td>\n",
              "      <td>185168000</td>\n",
              "      <td>2017</td>\n",
              "      <td>1</td>\n",
              "    </tr>\n",
              "    <tr>\n",
              "      <th>3</th>\n",
              "      <td>2017-01-04</td>\n",
              "      <td>1044.40</td>\n",
              "      <td>1159.42</td>\n",
              "      <td>1044.40</td>\n",
              "      <td>1154.73</td>\n",
              "      <td>1154.73</td>\n",
              "      <td>344945984</td>\n",
              "      <td>2017</td>\n",
              "      <td>1</td>\n",
              "    </tr>\n",
              "    <tr>\n",
              "      <th>4</th>\n",
              "      <td>2017-01-05</td>\n",
              "      <td>1156.73</td>\n",
              "      <td>1191.10</td>\n",
              "      <td>910.42</td>\n",
              "      <td>1013.38</td>\n",
              "      <td>1013.38</td>\n",
              "      <td>510199008</td>\n",
              "      <td>2017</td>\n",
              "      <td>1</td>\n",
              "    </tr>\n",
              "    <tr>\n",
              "      <th>5</th>\n",
              "      <td>2017-01-06</td>\n",
              "      <td>1014.24</td>\n",
              "      <td>1046.81</td>\n",
              "      <td>883.94</td>\n",
              "      <td>902.20</td>\n",
              "      <td>902.20</td>\n",
              "      <td>351876000</td>\n",
              "      <td>2017</td>\n",
              "      <td>1</td>\n",
              "    </tr>\n",
              "    <tr>\n",
              "      <th>6</th>\n",
              "      <td>2017-01-07</td>\n",
              "      <td>903.49</td>\n",
              "      <td>908.59</td>\n",
              "      <td>823.56</td>\n",
              "      <td>908.59</td>\n",
              "      <td>908.59</td>\n",
              "      <td>279550016</td>\n",
              "      <td>2017</td>\n",
              "      <td>1</td>\n",
              "    </tr>\n",
              "    <tr>\n",
              "      <th>7</th>\n",
              "      <td>2017-01-08</td>\n",
              "      <td>908.17</td>\n",
              "      <td>942.72</td>\n",
              "      <td>887.25</td>\n",
              "      <td>911.20</td>\n",
              "      <td>911.20</td>\n",
              "      <td>158715008</td>\n",
              "      <td>2017</td>\n",
              "      <td>1</td>\n",
              "    </tr>\n",
              "    <tr>\n",
              "      <th>8</th>\n",
              "      <td>2017-01-09</td>\n",
              "      <td>913.24</td>\n",
              "      <td>913.69</td>\n",
              "      <td>879.81</td>\n",
              "      <td>902.83</td>\n",
              "      <td>902.83</td>\n",
              "      <td>141876992</td>\n",
              "      <td>2017</td>\n",
              "      <td>1</td>\n",
              "    </tr>\n",
              "    <tr>\n",
              "      <th>9</th>\n",
              "      <td>2017-01-10</td>\n",
              "      <td>902.44</td>\n",
              "      <td>914.87</td>\n",
              "      <td>901.06</td>\n",
              "      <td>907.68</td>\n",
              "      <td>907.68</td>\n",
              "      <td>115808000</td>\n",
              "      <td>2017</td>\n",
              "      <td>1</td>\n",
              "    </tr>\n",
              "    <tr>\n",
              "      <th>10</th>\n",
              "      <td>2017-01-11</td>\n",
              "      <td>908.11</td>\n",
              "      <td>919.45</td>\n",
              "      <td>762.77</td>\n",
              "      <td>777.76</td>\n",
              "      <td>777.76</td>\n",
              "      <td>310928992</td>\n",
              "      <td>2017</td>\n",
              "      <td>1</td>\n",
              "    </tr>\n",
              "    <tr>\n",
              "      <th>11</th>\n",
              "      <td>2017-01-12</td>\n",
              "      <td>775.18</td>\n",
              "      <td>826.25</td>\n",
              "      <td>755.76</td>\n",
              "      <td>804.83</td>\n",
              "      <td>804.83</td>\n",
              "      <td>222326000</td>\n",
              "      <td>2017</td>\n",
              "      <td>1</td>\n",
              "    </tr>\n",
              "    <tr>\n",
              "      <th>12</th>\n",
              "      <td>2017-01-13</td>\n",
              "      <td>803.74</td>\n",
              "      <td>829.00</td>\n",
              "      <td>780.00</td>\n",
              "      <td>823.98</td>\n",
              "      <td>823.98</td>\n",
              "      <td>168968000</td>\n",
              "      <td>2017</td>\n",
              "      <td>1</td>\n",
              "    </tr>\n",
              "    <tr>\n",
              "      <th>13</th>\n",
              "      <td>2017-01-14</td>\n",
              "      <td>825.14</td>\n",
              "      <td>835.09</td>\n",
              "      <td>812.46</td>\n",
              "      <td>818.41</td>\n",
              "      <td>818.41</td>\n",
              "      <td>93063296</td>\n",
              "      <td>2017</td>\n",
              "      <td>1</td>\n",
              "    </tr>\n",
              "    <tr>\n",
              "      <th>14</th>\n",
              "      <td>2017-01-15</td>\n",
              "      <td>818.14</td>\n",
              "      <td>823.31</td>\n",
              "      <td>812.87</td>\n",
              "      <td>821.80</td>\n",
              "      <td>821.80</td>\n",
              "      <td>71013600</td>\n",
              "      <td>2017</td>\n",
              "      <td>1</td>\n",
              "    </tr>\n",
              "    <tr>\n",
              "      <th>15</th>\n",
              "      <td>2017-01-16</td>\n",
              "      <td>821.78</td>\n",
              "      <td>834.53</td>\n",
              "      <td>820.27</td>\n",
              "      <td>831.53</td>\n",
              "      <td>831.53</td>\n",
              "      <td>82755200</td>\n",
              "      <td>2017</td>\n",
              "      <td>1</td>\n",
              "    </tr>\n",
              "    <tr>\n",
              "      <th>16</th>\n",
              "      <td>2017-01-17</td>\n",
              "      <td>830.95</td>\n",
              "      <td>910.56</td>\n",
              "      <td>830.80</td>\n",
              "      <td>907.94</td>\n",
              "      <td>907.94</td>\n",
              "      <td>155095008</td>\n",
              "      <td>2017</td>\n",
              "      <td>1</td>\n",
              "    </tr>\n",
              "    <tr>\n",
              "      <th>17</th>\n",
              "      <td>2017-01-18</td>\n",
              "      <td>909.37</td>\n",
              "      <td>917.50</td>\n",
              "      <td>858.30</td>\n",
              "      <td>886.62</td>\n",
              "      <td>886.62</td>\n",
              "      <td>225676992</td>\n",
              "      <td>2017</td>\n",
              "      <td>1</td>\n",
              "    </tr>\n",
              "    <tr>\n",
              "      <th>18</th>\n",
              "      <td>2017-01-19</td>\n",
              "      <td>888.34</td>\n",
              "      <td>904.61</td>\n",
              "      <td>884.34</td>\n",
              "      <td>899.07</td>\n",
              "      <td>899.07</td>\n",
              "      <td>105625000</td>\n",
              "      <td>2017</td>\n",
              "      <td>1</td>\n",
              "    </tr>\n",
              "    <tr>\n",
              "      <th>19</th>\n",
              "      <td>2017-01-20</td>\n",
              "      <td>898.17</td>\n",
              "      <td>899.40</td>\n",
              "      <td>887.01</td>\n",
              "      <td>895.03</td>\n",
              "      <td>895.03</td>\n",
              "      <td>86728400</td>\n",
              "      <td>2017</td>\n",
              "      <td>1</td>\n",
              "    </tr>\n",
              "    <tr>\n",
              "      <th>20</th>\n",
              "      <td>2017-01-21</td>\n",
              "      <td>895.55</td>\n",
              "      <td>927.37</td>\n",
              "      <td>895.53</td>\n",
              "      <td>921.79</td>\n",
              "      <td>921.79</td>\n",
              "      <td>111158000</td>\n",
              "      <td>2017</td>\n",
              "      <td>1</td>\n",
              "    </tr>\n",
              "    <tr>\n",
              "      <th>21</th>\n",
              "      <td>2017-01-22</td>\n",
              "      <td>922.21</td>\n",
              "      <td>937.53</td>\n",
              "      <td>897.56</td>\n",
              "      <td>924.67</td>\n",
              "      <td>924.67</td>\n",
              "      <td>116573000</td>\n",
              "      <td>2017</td>\n",
              "      <td>1</td>\n",
              "    </tr>\n",
              "    <tr>\n",
              "      <th>22</th>\n",
              "      <td>2017-01-23</td>\n",
              "      <td>925.50</td>\n",
              "      <td>928.27</td>\n",
              "      <td>916.74</td>\n",
              "      <td>921.01</td>\n",
              "      <td>921.01</td>\n",
              "      <td>73588600</td>\n",
              "      <td>2017</td>\n",
              "      <td>1</td>\n",
              "    </tr>\n",
              "    <tr>\n",
              "      <th>23</th>\n",
              "      <td>2017-01-24</td>\n",
              "      <td>910.68</td>\n",
              "      <td>924.15</td>\n",
              "      <td>892.29</td>\n",
              "      <td>892.69</td>\n",
              "      <td>892.69</td>\n",
              "      <td>111349000</td>\n",
              "      <td>2017</td>\n",
              "      <td>1</td>\n",
              "    </tr>\n",
              "    <tr>\n",
              "      <th>24</th>\n",
              "      <td>2017-01-25</td>\n",
              "      <td>891.92</td>\n",
              "      <td>903.25</td>\n",
              "      <td>891.69</td>\n",
              "      <td>901.54</td>\n",
              "      <td>901.54</td>\n",
              "      <td>120831000</td>\n",
              "      <td>2017</td>\n",
              "      <td>1</td>\n",
              "    </tr>\n",
              "    <tr>\n",
              "      <th>25</th>\n",
              "      <td>2017-01-26</td>\n",
              "      <td>902.40</td>\n",
              "      <td>919.33</td>\n",
              "      <td>902.22</td>\n",
              "      <td>917.59</td>\n",
              "      <td>917.59</td>\n",
              "      <td>131958000</td>\n",
              "      <td>2017</td>\n",
              "      <td>1</td>\n",
              "    </tr>\n",
              "    <tr>\n",
              "      <th>26</th>\n",
              "      <td>2017-01-27</td>\n",
              "      <td>918.36</td>\n",
              "      <td>923.22</td>\n",
              "      <td>915.85</td>\n",
              "      <td>919.75</td>\n",
              "      <td>919.75</td>\n",
              "      <td>125594000</td>\n",
              "      <td>2017</td>\n",
              "      <td>1</td>\n",
              "    </tr>\n",
              "    <tr>\n",
              "      <th>27</th>\n",
              "      <td>2017-01-28</td>\n",
              "      <td>919.81</td>\n",
              "      <td>923.91</td>\n",
              "      <td>919.81</td>\n",
              "      <td>921.59</td>\n",
              "      <td>921.59</td>\n",
              "      <td>68979600</td>\n",
              "      <td>2017</td>\n",
              "      <td>1</td>\n",
              "    </tr>\n",
              "    <tr>\n",
              "      <th>28</th>\n",
              "      <td>2017-01-29</td>\n",
              "      <td>922.07</td>\n",
              "      <td>923.42</td>\n",
              "      <td>919.15</td>\n",
              "      <td>919.50</td>\n",
              "      <td>919.50</td>\n",
              "      <td>60851700</td>\n",
              "      <td>2017</td>\n",
              "      <td>1</td>\n",
              "    </tr>\n",
              "    <tr>\n",
              "      <th>29</th>\n",
              "      <td>2017-01-30</td>\n",
              "      <td>920.15</td>\n",
              "      <td>923.05</td>\n",
              "      <td>919.47</td>\n",
              "      <td>920.38</td>\n",
              "      <td>920.38</td>\n",
              "      <td>78227296</td>\n",
              "      <td>2017</td>\n",
              "      <td>1</td>\n",
              "    </tr>\n",
              "    <tr>\n",
              "      <th>30</th>\n",
              "      <td>2017-01-31</td>\n",
              "      <td>920.96</td>\n",
              "      <td>972.02</td>\n",
              "      <td>920.96</td>\n",
              "      <td>970.40</td>\n",
              "      <td>970.40</td>\n",
              "      <td>164582000</td>\n",
              "      <td>2017</td>\n",
              "      <td>1</td>\n",
              "    </tr>\n",
              "    <tr>\n",
              "      <th>31</th>\n",
              "      <td>2017-02-01</td>\n",
              "      <td>970.94</td>\n",
              "      <td>989.11</td>\n",
              "      <td>970.74</td>\n",
              "      <td>989.02</td>\n",
              "      <td>989.02</td>\n",
              "      <td>150110000</td>\n",
              "      <td>2017</td>\n",
              "      <td>2</td>\n",
              "    </tr>\n",
              "    <tr>\n",
              "      <th>32</th>\n",
              "      <td>2017-02-02</td>\n",
              "      <td>990.00</td>\n",
              "      <td>1013.52</td>\n",
              "      <td>983.22</td>\n",
              "      <td>1011.80</td>\n",
              "      <td>1011.80</td>\n",
              "      <td>145820992</td>\n",
              "      <td>2017</td>\n",
              "      <td>2</td>\n",
              "    </tr>\n",
              "    <tr>\n",
              "      <th>33</th>\n",
              "      <td>2017-02-03</td>\n",
              "      <td>1011.46</td>\n",
              "      <td>1033.87</td>\n",
              "      <td>1008.79</td>\n",
              "      <td>1029.91</td>\n",
              "      <td>1029.91</td>\n",
              "      <td>201278000</td>\n",
              "      <td>2017</td>\n",
              "      <td>2</td>\n",
              "    </tr>\n",
              "    <tr>\n",
              "      <th>34</th>\n",
              "      <td>2017-02-04</td>\n",
              "      <td>1031.33</td>\n",
              "      <td>1045.90</td>\n",
              "      <td>1015.16</td>\n",
              "      <td>1042.90</td>\n",
              "      <td>1042.90</td>\n",
              "      <td>155064000</td>\n",
              "      <td>2017</td>\n",
              "      <td>2</td>\n",
              "    </tr>\n",
              "    <tr>\n",
              "      <th>35</th>\n",
              "      <td>2017-02-05</td>\n",
              "      <td>1043.52</td>\n",
              "      <td>1043.63</td>\n",
              "      <td>1022.37</td>\n",
              "      <td>1027.34</td>\n",
              "      <td>1027.34</td>\n",
              "      <td>114208000</td>\n",
              "      <td>2017</td>\n",
              "      <td>2</td>\n",
              "    </tr>\n",
              "    <tr>\n",
              "      <th>36</th>\n",
              "      <td>2017-02-06</td>\n",
              "      <td>1028.40</td>\n",
              "      <td>1044.64</td>\n",
              "      <td>1028.16</td>\n",
              "      <td>1038.15</td>\n",
              "      <td>1038.15</td>\n",
              "      <td>111762000</td>\n",
              "      <td>2017</td>\n",
              "      <td>2</td>\n",
              "    </tr>\n",
              "    <tr>\n",
              "      <th>37</th>\n",
              "      <td>2017-02-07</td>\n",
              "      <td>1040.14</td>\n",
              "      <td>1061.93</td>\n",
              "      <td>1040.14</td>\n",
              "      <td>1061.35</td>\n",
              "      <td>1061.35</td>\n",
              "      <td>146007008</td>\n",
              "      <td>2017</td>\n",
              "      <td>2</td>\n",
              "    </tr>\n",
              "    <tr>\n",
              "      <th>38</th>\n",
              "      <td>2017-02-08</td>\n",
              "      <td>1062.32</td>\n",
              "      <td>1078.97</td>\n",
              "      <td>1037.49</td>\n",
              "      <td>1063.07</td>\n",
              "      <td>1063.07</td>\n",
              "      <td>201855008</td>\n",
              "      <td>2017</td>\n",
              "      <td>2</td>\n",
              "    </tr>\n",
              "    <tr>\n",
              "      <th>39</th>\n",
              "      <td>2017-02-09</td>\n",
              "      <td>1064.70</td>\n",
              "      <td>1088.99</td>\n",
              "      <td>953.34</td>\n",
              "      <td>994.38</td>\n",
              "      <td>994.38</td>\n",
              "      <td>407220000</td>\n",
              "      <td>2017</td>\n",
              "      <td>2</td>\n",
              "    </tr>\n",
              "  </tbody>\n",
              "</table>\n",
              "</div>"
            ],
            "text/plain": [
              "          Date     Open     High      Low  ...  Adj Close     Volume  year  month\n",
              "0   2017-01-01   963.66  1003.08   958.70  ...     998.33  147775008  2017      1\n",
              "1   2017-01-02   998.62  1031.39   996.70  ...    1021.75  222184992  2017      1\n",
              "2   2017-01-03  1021.60  1044.08  1021.60  ...    1043.84  185168000  2017      1\n",
              "3   2017-01-04  1044.40  1159.42  1044.40  ...    1154.73  344945984  2017      1\n",
              "4   2017-01-05  1156.73  1191.10   910.42  ...    1013.38  510199008  2017      1\n",
              "5   2017-01-06  1014.24  1046.81   883.94  ...     902.20  351876000  2017      1\n",
              "6   2017-01-07   903.49   908.59   823.56  ...     908.59  279550016  2017      1\n",
              "7   2017-01-08   908.17   942.72   887.25  ...     911.20  158715008  2017      1\n",
              "8   2017-01-09   913.24   913.69   879.81  ...     902.83  141876992  2017      1\n",
              "9   2017-01-10   902.44   914.87   901.06  ...     907.68  115808000  2017      1\n",
              "10  2017-01-11   908.11   919.45   762.77  ...     777.76  310928992  2017      1\n",
              "11  2017-01-12   775.18   826.25   755.76  ...     804.83  222326000  2017      1\n",
              "12  2017-01-13   803.74   829.00   780.00  ...     823.98  168968000  2017      1\n",
              "13  2017-01-14   825.14   835.09   812.46  ...     818.41   93063296  2017      1\n",
              "14  2017-01-15   818.14   823.31   812.87  ...     821.80   71013600  2017      1\n",
              "15  2017-01-16   821.78   834.53   820.27  ...     831.53   82755200  2017      1\n",
              "16  2017-01-17   830.95   910.56   830.80  ...     907.94  155095008  2017      1\n",
              "17  2017-01-18   909.37   917.50   858.30  ...     886.62  225676992  2017      1\n",
              "18  2017-01-19   888.34   904.61   884.34  ...     899.07  105625000  2017      1\n",
              "19  2017-01-20   898.17   899.40   887.01  ...     895.03   86728400  2017      1\n",
              "20  2017-01-21   895.55   927.37   895.53  ...     921.79  111158000  2017      1\n",
              "21  2017-01-22   922.21   937.53   897.56  ...     924.67  116573000  2017      1\n",
              "22  2017-01-23   925.50   928.27   916.74  ...     921.01   73588600  2017      1\n",
              "23  2017-01-24   910.68   924.15   892.29  ...     892.69  111349000  2017      1\n",
              "24  2017-01-25   891.92   903.25   891.69  ...     901.54  120831000  2017      1\n",
              "25  2017-01-26   902.40   919.33   902.22  ...     917.59  131958000  2017      1\n",
              "26  2017-01-27   918.36   923.22   915.85  ...     919.75  125594000  2017      1\n",
              "27  2017-01-28   919.81   923.91   919.81  ...     921.59   68979600  2017      1\n",
              "28  2017-01-29   922.07   923.42   919.15  ...     919.50   60851700  2017      1\n",
              "29  2017-01-30   920.15   923.05   919.47  ...     920.38   78227296  2017      1\n",
              "30  2017-01-31   920.96   972.02   920.96  ...     970.40  164582000  2017      1\n",
              "31  2017-02-01   970.94   989.11   970.74  ...     989.02  150110000  2017      2\n",
              "32  2017-02-02   990.00  1013.52   983.22  ...    1011.80  145820992  2017      2\n",
              "33  2017-02-03  1011.46  1033.87  1008.79  ...    1029.91  201278000  2017      2\n",
              "34  2017-02-04  1031.33  1045.90  1015.16  ...    1042.90  155064000  2017      2\n",
              "35  2017-02-05  1043.52  1043.63  1022.37  ...    1027.34  114208000  2017      2\n",
              "36  2017-02-06  1028.40  1044.64  1028.16  ...    1038.15  111762000  2017      2\n",
              "37  2017-02-07  1040.14  1061.93  1040.14  ...    1061.35  146007008  2017      2\n",
              "38  2017-02-08  1062.32  1078.97  1037.49  ...    1063.07  201855008  2017      2\n",
              "39  2017-02-09  1064.70  1088.99   953.34  ...     994.38  407220000  2017      2\n",
              "\n",
              "[40 rows x 9 columns]"
            ]
          },
          "metadata": {
            "tags": []
          },
          "execution_count": 7
        }
      ]
    },
    {
      "cell_type": "code",
      "metadata": {
        "id": "tr0OjeZ20yIR"
      },
      "source": [
        "data['day']=data['Date'].str.split('-').str[2]"
      ],
      "execution_count": 8,
      "outputs": []
    },
    {
      "cell_type": "code",
      "metadata": {
        "colab": {
          "base_uri": "https://localhost:8080/",
          "height": 203
        },
        "id": "COigqQOj0yB4",
        "outputId": "438c705e-8b55-40bc-85e0-6e9d30310b51"
      },
      "source": [
        "data.head()"
      ],
      "execution_count": 9,
      "outputs": [
        {
          "output_type": "execute_result",
          "data": {
            "text/html": [
              "<div>\n",
              "<style scoped>\n",
              "    .dataframe tbody tr th:only-of-type {\n",
              "        vertical-align: middle;\n",
              "    }\n",
              "\n",
              "    .dataframe tbody tr th {\n",
              "        vertical-align: top;\n",
              "    }\n",
              "\n",
              "    .dataframe thead th {\n",
              "        text-align: right;\n",
              "    }\n",
              "</style>\n",
              "<table border=\"1\" class=\"dataframe\">\n",
              "  <thead>\n",
              "    <tr style=\"text-align: right;\">\n",
              "      <th></th>\n",
              "      <th>Date</th>\n",
              "      <th>Open</th>\n",
              "      <th>High</th>\n",
              "      <th>Low</th>\n",
              "      <th>Close</th>\n",
              "      <th>Adj Close</th>\n",
              "      <th>Volume</th>\n",
              "      <th>year</th>\n",
              "      <th>month</th>\n",
              "      <th>day</th>\n",
              "    </tr>\n",
              "  </thead>\n",
              "  <tbody>\n",
              "    <tr>\n",
              "      <th>0</th>\n",
              "      <td>2017-01-01</td>\n",
              "      <td>963.66</td>\n",
              "      <td>1003.08</td>\n",
              "      <td>958.70</td>\n",
              "      <td>998.33</td>\n",
              "      <td>998.33</td>\n",
              "      <td>147775008</td>\n",
              "      <td>2017</td>\n",
              "      <td>1</td>\n",
              "      <td>01</td>\n",
              "    </tr>\n",
              "    <tr>\n",
              "      <th>1</th>\n",
              "      <td>2017-01-02</td>\n",
              "      <td>998.62</td>\n",
              "      <td>1031.39</td>\n",
              "      <td>996.70</td>\n",
              "      <td>1021.75</td>\n",
              "      <td>1021.75</td>\n",
              "      <td>222184992</td>\n",
              "      <td>2017</td>\n",
              "      <td>1</td>\n",
              "      <td>02</td>\n",
              "    </tr>\n",
              "    <tr>\n",
              "      <th>2</th>\n",
              "      <td>2017-01-03</td>\n",
              "      <td>1021.60</td>\n",
              "      <td>1044.08</td>\n",
              "      <td>1021.60</td>\n",
              "      <td>1043.84</td>\n",
              "      <td>1043.84</td>\n",
              "      <td>185168000</td>\n",
              "      <td>2017</td>\n",
              "      <td>1</td>\n",
              "      <td>03</td>\n",
              "    </tr>\n",
              "    <tr>\n",
              "      <th>3</th>\n",
              "      <td>2017-01-04</td>\n",
              "      <td>1044.40</td>\n",
              "      <td>1159.42</td>\n",
              "      <td>1044.40</td>\n",
              "      <td>1154.73</td>\n",
              "      <td>1154.73</td>\n",
              "      <td>344945984</td>\n",
              "      <td>2017</td>\n",
              "      <td>1</td>\n",
              "      <td>04</td>\n",
              "    </tr>\n",
              "    <tr>\n",
              "      <th>4</th>\n",
              "      <td>2017-01-05</td>\n",
              "      <td>1156.73</td>\n",
              "      <td>1191.10</td>\n",
              "      <td>910.42</td>\n",
              "      <td>1013.38</td>\n",
              "      <td>1013.38</td>\n",
              "      <td>510199008</td>\n",
              "      <td>2017</td>\n",
              "      <td>1</td>\n",
              "      <td>05</td>\n",
              "    </tr>\n",
              "  </tbody>\n",
              "</table>\n",
              "</div>"
            ],
            "text/plain": [
              "         Date     Open     High      Low  ...     Volume  year  month  day\n",
              "0  2017-01-01   963.66  1003.08   958.70  ...  147775008  2017      1   01\n",
              "1  2017-01-02   998.62  1031.39   996.70  ...  222184992  2017      1   02\n",
              "2  2017-01-03  1021.60  1044.08  1021.60  ...  185168000  2017      1   03\n",
              "3  2017-01-04  1044.40  1159.42  1044.40  ...  344945984  2017      1   04\n",
              "4  2017-01-05  1156.73  1191.10   910.42  ...  510199008  2017      1   05\n",
              "\n",
              "[5 rows x 10 columns]"
            ]
          },
          "metadata": {
            "tags": []
          },
          "execution_count": 9
        }
      ]
    },
    {
      "cell_type": "code",
      "metadata": {
        "id": "hc2SvWke1CvH"
      },
      "source": [
        "data=data.drop(['Date','Close'],axis=1)"
      ],
      "execution_count": 10,
      "outputs": []
    },
    {
      "cell_type": "code",
      "metadata": {
        "id": "16iZHUgJ1EmS"
      },
      "source": [
        "data=data.astype('int')"
      ],
      "execution_count": 11,
      "outputs": []
    },
    {
      "cell_type": "code",
      "metadata": {
        "colab": {
          "base_uri": "https://localhost:8080/"
        },
        "id": "jDuYKTUx1Eiq",
        "outputId": "5acede74-c323-4402-951b-89b9d3343a24"
      },
      "source": [
        "data.dtypes"
      ],
      "execution_count": 12,
      "outputs": [
        {
          "output_type": "execute_result",
          "data": {
            "text/plain": [
              "Open         int64\n",
              "High         int64\n",
              "Low          int64\n",
              "Adj Close    int64\n",
              "Volume       int64\n",
              "year         int64\n",
              "month        int64\n",
              "day          int64\n",
              "dtype: object"
            ]
          },
          "metadata": {
            "tags": []
          },
          "execution_count": 12
        }
      ]
    },
    {
      "cell_type": "code",
      "metadata": {
        "colab": {
          "base_uri": "https://localhost:8080/"
        },
        "id": "Yu8vP2w81Egi",
        "outputId": "2f9948ad-423f-4f8a-c76f-d1c6623875ae"
      },
      "source": [
        "data.isnull().sum()"
      ],
      "execution_count": 13,
      "outputs": [
        {
          "output_type": "execute_result",
          "data": {
            "text/plain": [
              "Open         0\n",
              "High         0\n",
              "Low          0\n",
              "Adj Close    0\n",
              "Volume       0\n",
              "year         0\n",
              "month        0\n",
              "day          0\n",
              "dtype: int64"
            ]
          },
          "metadata": {
            "tags": []
          },
          "execution_count": 13
        }
      ]
    },
    {
      "cell_type": "code",
      "metadata": {
        "colab": {
          "base_uri": "https://localhost:8080/",
          "height": 357
        },
        "id": "cLPycDqZ1Ed2",
        "outputId": "0a842896-8dbb-4a5f-8287-9b71d5d1cac3"
      },
      "source": [
        "data.head(10)"
      ],
      "execution_count": 14,
      "outputs": [
        {
          "output_type": "execute_result",
          "data": {
            "text/html": [
              "<div>\n",
              "<style scoped>\n",
              "    .dataframe tbody tr th:only-of-type {\n",
              "        vertical-align: middle;\n",
              "    }\n",
              "\n",
              "    .dataframe tbody tr th {\n",
              "        vertical-align: top;\n",
              "    }\n",
              "\n",
              "    .dataframe thead th {\n",
              "        text-align: right;\n",
              "    }\n",
              "</style>\n",
              "<table border=\"1\" class=\"dataframe\">\n",
              "  <thead>\n",
              "    <tr style=\"text-align: right;\">\n",
              "      <th></th>\n",
              "      <th>Open</th>\n",
              "      <th>High</th>\n",
              "      <th>Low</th>\n",
              "      <th>Adj Close</th>\n",
              "      <th>Volume</th>\n",
              "      <th>year</th>\n",
              "      <th>month</th>\n",
              "      <th>day</th>\n",
              "    </tr>\n",
              "  </thead>\n",
              "  <tbody>\n",
              "    <tr>\n",
              "      <th>0</th>\n",
              "      <td>963</td>\n",
              "      <td>1003</td>\n",
              "      <td>958</td>\n",
              "      <td>998</td>\n",
              "      <td>147775008</td>\n",
              "      <td>2017</td>\n",
              "      <td>1</td>\n",
              "      <td>1</td>\n",
              "    </tr>\n",
              "    <tr>\n",
              "      <th>1</th>\n",
              "      <td>998</td>\n",
              "      <td>1031</td>\n",
              "      <td>996</td>\n",
              "      <td>1021</td>\n",
              "      <td>222184992</td>\n",
              "      <td>2017</td>\n",
              "      <td>1</td>\n",
              "      <td>2</td>\n",
              "    </tr>\n",
              "    <tr>\n",
              "      <th>2</th>\n",
              "      <td>1021</td>\n",
              "      <td>1044</td>\n",
              "      <td>1021</td>\n",
              "      <td>1043</td>\n",
              "      <td>185168000</td>\n",
              "      <td>2017</td>\n",
              "      <td>1</td>\n",
              "      <td>3</td>\n",
              "    </tr>\n",
              "    <tr>\n",
              "      <th>3</th>\n",
              "      <td>1044</td>\n",
              "      <td>1159</td>\n",
              "      <td>1044</td>\n",
              "      <td>1154</td>\n",
              "      <td>344945984</td>\n",
              "      <td>2017</td>\n",
              "      <td>1</td>\n",
              "      <td>4</td>\n",
              "    </tr>\n",
              "    <tr>\n",
              "      <th>4</th>\n",
              "      <td>1156</td>\n",
              "      <td>1191</td>\n",
              "      <td>910</td>\n",
              "      <td>1013</td>\n",
              "      <td>510199008</td>\n",
              "      <td>2017</td>\n",
              "      <td>1</td>\n",
              "      <td>5</td>\n",
              "    </tr>\n",
              "    <tr>\n",
              "      <th>5</th>\n",
              "      <td>1014</td>\n",
              "      <td>1046</td>\n",
              "      <td>883</td>\n",
              "      <td>902</td>\n",
              "      <td>351876000</td>\n",
              "      <td>2017</td>\n",
              "      <td>1</td>\n",
              "      <td>6</td>\n",
              "    </tr>\n",
              "    <tr>\n",
              "      <th>6</th>\n",
              "      <td>903</td>\n",
              "      <td>908</td>\n",
              "      <td>823</td>\n",
              "      <td>908</td>\n",
              "      <td>279550016</td>\n",
              "      <td>2017</td>\n",
              "      <td>1</td>\n",
              "      <td>7</td>\n",
              "    </tr>\n",
              "    <tr>\n",
              "      <th>7</th>\n",
              "      <td>908</td>\n",
              "      <td>942</td>\n",
              "      <td>887</td>\n",
              "      <td>911</td>\n",
              "      <td>158715008</td>\n",
              "      <td>2017</td>\n",
              "      <td>1</td>\n",
              "      <td>8</td>\n",
              "    </tr>\n",
              "    <tr>\n",
              "      <th>8</th>\n",
              "      <td>913</td>\n",
              "      <td>913</td>\n",
              "      <td>879</td>\n",
              "      <td>902</td>\n",
              "      <td>141876992</td>\n",
              "      <td>2017</td>\n",
              "      <td>1</td>\n",
              "      <td>9</td>\n",
              "    </tr>\n",
              "    <tr>\n",
              "      <th>9</th>\n",
              "      <td>902</td>\n",
              "      <td>914</td>\n",
              "      <td>901</td>\n",
              "      <td>907</td>\n",
              "      <td>115808000</td>\n",
              "      <td>2017</td>\n",
              "      <td>1</td>\n",
              "      <td>10</td>\n",
              "    </tr>\n",
              "  </tbody>\n",
              "</table>\n",
              "</div>"
            ],
            "text/plain": [
              "   Open  High   Low  Adj Close     Volume  year  month  day\n",
              "0   963  1003   958        998  147775008  2017      1    1\n",
              "1   998  1031   996       1021  222184992  2017      1    2\n",
              "2  1021  1044  1021       1043  185168000  2017      1    3\n",
              "3  1044  1159  1044       1154  344945984  2017      1    4\n",
              "4  1156  1191   910       1013  510199008  2017      1    5\n",
              "5  1014  1046   883        902  351876000  2017      1    6\n",
              "6   903   908   823        908  279550016  2017      1    7\n",
              "7   908   942   887        911  158715008  2017      1    8\n",
              "8   913   913   879        902  141876992  2017      1    9\n",
              "9   902   914   901        907  115808000  2017      1   10"
            ]
          },
          "metadata": {
            "tags": []
          },
          "execution_count": 14
        }
      ]
    },
    {
      "cell_type": "code",
      "metadata": {
        "colab": {
          "base_uri": "https://localhost:8080/"
        },
        "id": "SCCIAFac1EbA",
        "outputId": "0a898221-c57a-4ecf-c7c1-c8975c1cfdce"
      },
      "source": [
        "target.astype('int')"
      ],
      "execution_count": 28,
      "outputs": [
        {
          "output_type": "execute_result",
          "data": {
            "text/plain": [
              "0       998\n",
              "1      1021\n",
              "2      1043\n",
              "3      1154\n",
              "4      1013\n",
              "       ... \n",
              "895    8838\n",
              "896    8994\n",
              "897    9320\n",
              "898    9081\n",
              "899    9273\n",
              "Name: Close, Length: 900, dtype: int64"
            ]
          },
          "metadata": {
            "tags": []
          },
          "execution_count": 28
        }
      ]
    },
    {
      "cell_type": "code",
      "metadata": {
        "id": "eQDJ45fE1M2k"
      },
      "source": [
        "from sklearn.preprocessing import MinMaxScaler"
      ],
      "execution_count": 29,
      "outputs": []
    },
    {
      "cell_type": "code",
      "metadata": {
        "id": "zAsAWsdz1MzG"
      },
      "source": [
        "sacler=MinMaxScaler()\n",
        "data=sacler.fit_transform(data)"
      ],
      "execution_count": 30,
      "outputs": []
    },
    {
      "cell_type": "code",
      "metadata": {
        "colab": {
          "base_uri": "https://localhost:8080/"
        },
        "id": "w3Cs6OZb1MqW",
        "outputId": "41e3624f-a25e-40de-8afa-22a578542dbd"
      },
      "source": [
        "data"
      ],
      "execution_count": 31,
      "outputs": [
        {
          "output_type": "execute_result",
          "data": {
            "text/plain": [
              "array([[0.01005348, 0.00934288, 0.01114221, ..., 0.        , 0.        ,\n",
              "        0.        ],\n",
              "       [0.01192513, 0.01079622, 0.01322795, ..., 0.        , 0.        ,\n",
              "        0.03333333],\n",
              "       [0.01315508, 0.01147099, 0.01460014, ..., 0.        , 0.        ,\n",
              "        0.06666667],\n",
              "       ...,\n",
              "       [0.43919786, 0.44601889, 0.45189088, ..., 1.        , 0.45454545,\n",
              "        0.53333333],\n",
              "       [0.45775401, 0.44248936, 0.45276909, ..., 1.        , 0.45454545,\n",
              "        0.56666667],\n",
              "       [0.4440107 , 0.43994602, 0.45639168, ..., 1.        , 0.45454545,\n",
              "        0.6       ]])"
            ]
          },
          "metadata": {
            "tags": []
          },
          "execution_count": 31
        }
      ]
    },
    {
      "cell_type": "code",
      "metadata": {
        "id": "zKD7gB1y1MnJ"
      },
      "source": [
        "from sklearn.model_selection import train_test_split\n",
        "x_train,x_test,y_train,y_test=train_test_split(data,target)"
      ],
      "execution_count": 32,
      "outputs": []
    },
    {
      "cell_type": "code",
      "metadata": {
        "colab": {
          "base_uri": "https://localhost:8080/"
        },
        "id": "FEIKapQc1Mk9",
        "outputId": "13a9277b-76a6-4a2b-ef53-03d61a5a0100"
      },
      "source": [
        "x_train.shape"
      ],
      "execution_count": 33,
      "outputs": [
        {
          "output_type": "execute_result",
          "data": {
            "text/plain": [
              "(675, 8)"
            ]
          },
          "metadata": {
            "tags": []
          },
          "execution_count": 33
        }
      ]
    },
    {
      "cell_type": "code",
      "metadata": {
        "colab": {
          "base_uri": "https://localhost:8080/"
        },
        "id": "YTFr9bFE1Mh3",
        "outputId": "31154e7d-a399-4e39-a0dd-c1ad883ad941"
      },
      "source": [
        "from sklearn.ensemble import RandomForestRegressor\n",
        "ens=RandomForestRegressor(n_estimators=100,criterion='mae')\n",
        "ens.fit(x_train,y_train)\n",
        "ens.score(x_train,y_train)"
      ],
      "execution_count": 35,
      "outputs": [
        {
          "output_type": "execute_result",
          "data": {
            "text/plain": [
              "0.9998509295340421"
            ]
          },
          "metadata": {
            "tags": []
          },
          "execution_count": 35
        }
      ]
    },
    {
      "cell_type": "code",
      "metadata": {
        "colab": {
          "base_uri": "https://localhost:8080/"
        },
        "id": "1b3wXJcD1MfD",
        "outputId": "18969b23-a9e7-4f1d-c01e-bcb5ccad94e8"
      },
      "source": [
        "ens.score(x_train,y_train)"
      ],
      "execution_count": 36,
      "outputs": [
        {
          "output_type": "execute_result",
          "data": {
            "text/plain": [
              "0.9998509295340421"
            ]
          },
          "metadata": {
            "tags": []
          },
          "execution_count": 36
        }
      ]
    },
    {
      "cell_type": "code",
      "metadata": {
        "colab": {
          "base_uri": "https://localhost:8080/"
        },
        "id": "zQROs0WP33YN",
        "outputId": "1f8495ea-aa3a-4c5d-bf92-165904047afe"
      },
      "source": [
        "y_pred=ens.predict(x_test)\n",
        "difference_prediction=y_test-y_pred\n",
        "difference_prediction.max(),difference_prediction.min(),difference_prediction.mean()"
      ],
      "execution_count": 56,
      "outputs": [
        {
          "output_type": "execute_result",
          "data": {
            "text/plain": [
              "(592.1880000000128, -460.78399999998874, -2.7452035555544176)"
            ]
          },
          "metadata": {
            "tags": []
          },
          "execution_count": 56
        }
      ]
    },
    {
      "cell_type": "code",
      "metadata": {
        "colab": {
          "base_uri": "https://localhost:8080/"
        },
        "id": "QucjtREL4yCb",
        "outputId": "b719efc8-8129-4432-c396-a52007e41a49"
      },
      "source": [
        "difference_prediction"
      ],
      "execution_count": 57,
      "outputs": [
        {
          "output_type": "execute_result",
          "data": {
            "text/plain": [
              "array([-2.110000e-01, -6.351800e+00, -2.976730e+01, -2.018960e+01,\n",
              "       -3.317200e+00, -2.317000e-01, -1.022320e+01,  1.869470e+01,\n",
              "        2.242000e+00, -4.607840e+02,  2.662500e+00, -1.056500e+00,\n",
              "        2.037930e+01,  3.493200e+00, -2.635950e+01, -1.949200e+01,\n",
              "       -5.832000e+00, -1.069400e+00, -4.313400e+00, -3.576590e+01,\n",
              "       -8.842260e+01, -2.605000e+00,  9.208000e-01,  1.169990e+01,\n",
              "       -4.216700e+00, -1.239300e+00,  3.925400e+00,  1.136080e+02,\n",
              "       -1.144790e+01, -4.211740e+01, -3.168600e+00,  2.654500e+00,\n",
              "       -2.153450e+01, -5.926900e+00, -6.451100e+00, -1.239870e+01,\n",
              "        8.396100e+00, -3.415450e+01,  2.310000e-02, -1.392100e+01,\n",
              "        2.665800e+00, -2.473160e+01,  1.706400e+00,  6.694190e+01,\n",
              "       -2.103670e+01, -5.012500e+00, -3.739000e+01,  1.391120e+01,\n",
              "       -5.662950e+01,  8.736200e+00, -4.764300e+00,  7.241370e+01,\n",
              "       -1.739780e+01, -3.686230e+01, -2.194230e+01,  1.853200e+00,\n",
              "       -1.525100e+01,  5.921880e+02, -4.413700e+00,  5.390000e-01,\n",
              "       -2.099420e+01,  3.440000e-01,  1.578600e+00, -2.123180e+02,\n",
              "        4.575800e+00, -4.745200e+00,  7.201000e-01,  8.996300e+00,\n",
              "       -8.335600e+00, -3.124700e+00,  4.356000e+00, -2.775600e+00,\n",
              "        3.416530e+01,  4.206800e+00, -6.676500e+00, -1.597880e+01,\n",
              "        6.547700e+00, -2.310200e+01, -1.038380e+01,  1.472500e+00,\n",
              "        4.916000e+00,  9.209100e+00, -1.327000e+01, -5.158800e+00,\n",
              "       -4.966200e+00,  1.522070e+01,  1.776430e+01,  9.314000e-01,\n",
              "        1.842600e+01, -5.774100e+00, -1.871840e+01,  1.678830e+02,\n",
              "       -1.722540e+01,  2.861300e+00,  1.609650e+01,  4.879000e-01,\n",
              "       -2.865280e+01,  1.348020e+01, -3.835000e+00, -1.289300e+01,\n",
              "       -1.288000e+01,  9.263900e+00,  1.715830e+01,  9.687500e+00,\n",
              "        4.550000e-01, -5.361530e+01, -1.032930e+01,  2.356200e+00,\n",
              "        2.662470e+01,  5.481500e+00, -1.490360e+01, -1.267400e+00,\n",
              "        3.964000e-01,  6.314800e+00,  8.988000e+00, -5.668700e+00,\n",
              "       -1.949330e+01, -9.678000e-01,  2.751300e+00,  8.246000e+00,\n",
              "       -1.386534e+02,  2.407400e+00, -1.796210e+01, -7.754600e+00,\n",
              "        7.045200e+00, -3.527100e+01,  2.441300e+00,  4.879300e+00,\n",
              "        2.139400e+00, -6.295630e+01, -2.594920e+01,  1.572860e+01,\n",
              "        2.560900e+00,  8.545600e+00,  3.713900e+00, -4.618700e+01,\n",
              "        2.584200e+00, -3.193020e+02,  1.824600e+00, -5.831300e+00,\n",
              "       -4.445200e+00, -3.037900e+00,  1.864200e+00,  1.257980e+01,\n",
              "        7.217000e+00,  2.374000e-01,  1.274910e+01, -1.422180e+01,\n",
              "        8.212900e+00, -3.042000e-01, -6.712000e+01, -5.973800e+01,\n",
              "        3.348200e+00, -6.352900e+00,  2.880720e+01,  4.925800e+00,\n",
              "       -4.321300e+00, -3.771000e-01,  4.647410e+01, -2.807980e+01,\n",
              "       -1.632670e+01,  4.759930e+02,  5.645200e+00,  6.404960e+01,\n",
              "       -2.842100e+00,  2.839600e+00,  3.099000e+00, -2.667910e+01,\n",
              "        4.239760e+01, -1.992000e+00, -1.507000e-01,  1.838199e+02,\n",
              "       -1.613800e+00, -1.008110e+01, -4.850600e+00, -3.646610e+01,\n",
              "        8.066600e+00,  2.859550e+01,  1.229010e+01,  1.859720e+01,\n",
              "        5.575200e+00,  1.329550e+01, -1.701400e+00,  1.275870e+01,\n",
              "       -4.093600e+00,  3.210200e+00, -9.436500e+00,  1.215100e+01,\n",
              "       -1.351320e+01,  6.438710e+01, -1.175970e+01,  2.070100e+00,\n",
              "       -8.594400e+00, -1.077870e+02, -1.750490e+01, -1.022420e+01,\n",
              "        5.468480e+01, -7.552300e+00, -1.865200e+00,  7.558800e+00,\n",
              "       -1.022220e+01, -2.966600e+00, -4.338080e+01, -2.032000e-01,\n",
              "       -1.208000e-01, -5.560820e+01,  2.746300e+00,  2.796000e-01,\n",
              "        3.770200e+00, -4.350230e+01, -3.666490e+01, -1.260201e+02,\n",
              "        3.014900e+00,  5.874100e+00, -2.765900e+00, -5.256670e+01,\n",
              "       -1.172200e+00, -2.418300e+00,  3.350600e+00, -1.961770e+01,\n",
              "       -1.330970e+01,  1.212800e+00,  2.103770e+01, -3.318960e+01,\n",
              "        7.370000e-01])"
            ]
          },
          "metadata": {
            "tags": []
          },
          "execution_count": 57
        }
      ]
    }
  ]
}